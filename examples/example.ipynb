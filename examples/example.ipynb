{
 "cells": [
  {
   "cell_type": "code",
   "execution_count": 1,
   "metadata": {},
   "outputs": [],
   "source": [
    "import sys\n",
    "import os\n",
    "from dotenv import load_dotenv\n",
    "load_dotenv()\n",
    "\n",
    "sys.path.append(\"..\")"
   ]
  },
  {
   "cell_type": "code",
   "execution_count": 4,
   "metadata": {},
   "outputs": [
    {
     "name": "stderr",
     "output_type": "stream",
     "text": [
      "100%|██████████| 5/5 [00:06<00:00,  1.28s/it]\n"
     ]
    },
    {
     "data": {
      "text/plain": [
       "[{'question': 'What is a Chinaman in cricket terminology?',\n",
       "  'answer': \"A Chinaman is a left-handed spin bowler’s leg-break delivery that turns the opposite way to a normal left-arm spinner's delivery, which usually turns from leg to off.\"},\n",
       " {'question': \"What is a 'reverse sweep' in cricket?\",\n",
       "  'answer': \"A 'reverse sweep' is a shot employed by a batsman by reversing his stance from left-handed to right-handed or vice versa. The fielding side sets its fielders in anticipation of his normal stance; a reverse sweep permits the batsman to exploit gaps on the other side of the field.\"},\n",
       " {'question': 'What is the national motto of India as mentioned in the context?',\n",
       "  'answer': \"The national motto of India, as mentioned in the context, is 'Satyameva Jayate' which means 'Truth Always Triumphs'.\"},\n",
       " {'question': 'What has shaped the Indian mind according to P Thompson?',\n",
       "  'answer': 'The Indian mind has been shaped by remarkably diverse forces: ancient Hindu tradition, myth and scripture; the impact of Islam and Christianity; and two centuries of British colonial rule.'},\n",
       " {'question': 'What does secularism mean in the Indian context?',\n",
       "  'answer': 'In the Indian context, secularism means a profusion of religions, none of which is privileged by the state. It does not mean irreligiousness but rather multi-religiousness.'}]"
      ]
     },
     "execution_count": 4,
     "metadata": {},
     "output_type": "execute_result"
    }
   ],
   "source": [
    "from ragsynth import EvalDataGenerator\n",
    "dir_path = '../tests/test_data'\n",
    "eval_data_generator = EvalDataGenerator(path = dir_path)\n",
    "eval_data_generator.generate(k=5)"
   ]
  },
  {
   "cell_type": "code",
   "execution_count": null,
   "metadata": {},
   "outputs": [],
   "source": []
  }
 ],
 "metadata": {
  "language_info": {
   "name": "python"
  }
 },
 "nbformat": 4,
 "nbformat_minor": 2
}
